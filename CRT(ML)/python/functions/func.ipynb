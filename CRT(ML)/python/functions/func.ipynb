{
 "cells": [
  {
   "cell_type": "code",
   "execution_count": 6,
   "metadata": {},
   "outputs": [
    {
     "name": "stdout",
     "output_type": "stream",
     "text": [
      "aryacse\n",
      "jatincse\n"
     ]
    }
   ],
   "source": [
    "def myname(name=\"arya\",classes=\"cse\"):\n",
    "    print(name+\"\"+classes)\n",
    "myname()\n",
    "myname(name=\"jatin\")"
   ]
  },
  {
   "cell_type": "code",
   "execution_count": null,
   "metadata": {},
   "outputs": [
    {
     "name": "stdout",
     "output_type": "stream",
     "text": [
      "2004 is a leap year.\n"
     ]
    }
   ],
   "source": [
    "# Leap year program\n",
    "\n",
    "def is_leap_year(year):\n",
    "    if year % 100 == 0:\n",
    "        return year % 400 == 0\n",
    "    else:\n",
    "        return year % 4 == 0\n",
    "\n",
    "def main():\n",
    "    try:\n",
    "        year = int(input(\"Enter a year to check if it's a leap year: \"))\n",
    "        \n",
    "        if is_leap_year(year):\n",
    "            print(f\"{year} is a leap year.\")\n",
    "        else:\n",
    "            print(f\"{year} is not a leap year.\")\n",
    "            \n",
    "    except ValueError:\n",
    "        print(\"Please enter a valid year (a whole number).\")\n",
    "\n",
    "if __name__ == \"__main__\":\n",
    "    main()"
   ]
  },
  {
   "cell_type": "code",
   "execution_count": null,
   "metadata": {},
   "outputs": [
    {
     "name": "stdout",
     "output_type": "stream",
     "text": [
      "Your grade is: A\n"
     ]
    }
   ],
   "source": [
    "# Student grade calculator\n",
    "\n",
    "def calculate_grade(mark):\n",
    "    if mark >= 90:\n",
    "        return \"A\"\n",
    "    elif mark >= 80:\n",
    "        return \"B\"\n",
    "    elif mark >= 70:\n",
    "        return \"C\"\n",
    "    elif mark >= 60:\n",
    "        return \"D\"\n",
    "    else:\n",
    "        return \"F\"\n",
    "\n",
    "\n",
    "def main():\n",
    "    try:\n",
    "        mark = float(input(\"Enter your mark (0-100): \"))\n",
    "\n",
    "        if mark < 0 or mark > 100:\n",
    "            print(\"Error: Mark must be between 0 and 100.\")\n",
    "            return\n",
    "\n",
    "        grade = calculate_grade(mark)\n",
    "        print(f\"Your grade is: {grade}\")\n",
    "\n",
    "    except ValueError:\n",
    "        print(\"Error: Please enter a valid numeric mark.\")\n",
    "\n",
    "\n",
    "if __name__ == \"__main__\":\n",
    "    main()"
   ]
  }
 ],
 "metadata": {
  "kernelspec": {
   "display_name": "Python 3",
   "language": "python",
   "name": "python3"
  },
  "language_info": {
   "codemirror_mode": {
    "name": "ipython",
    "version": 3
   },
   "file_extension": ".py",
   "mimetype": "text/x-python",
   "name": "python",
   "nbconvert_exporter": "python",
   "pygments_lexer": "ipython3",
   "version": "3.13.1"
  }
 },
 "nbformat": 4,
 "nbformat_minor": 2
}
