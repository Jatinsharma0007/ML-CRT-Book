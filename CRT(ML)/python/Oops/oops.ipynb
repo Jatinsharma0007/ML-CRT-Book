{
 "cells": [
  {
   "cell_type": "code",
   "execution_count": null,
   "metadata": {},
   "outputs": [
    {
     "name": "stdout",
     "output_type": "stream",
     "text": [
      "10\n"
     ]
    }
   ],
   "source": [
    "class Arya:\n",
    "    a = 10\n",
    "\n",
    "\n",
    "student = Arya()\n",
    "print(a1.a)"
   ]
  },
  {
   "cell_type": "code",
   "execution_count": null,
   "metadata": {},
   "outputs": [
    {
     "name": "stdout",
     "output_type": "stream",
     "text": [
      "hod\n",
      "<class 'NoneType'>\n"
     ]
    }
   ],
   "source": [
    "class Arya:\n",
    "    def hod():\n",
    "        print(\"hod\")\n",
    "\n",
    "\n",
    "a1 = Arya.hod()\n",
    "print(a1)"
   ]
  },
  {
   "cell_type": "code",
   "execution_count": null,
   "metadata": {},
   "outputs": [],
   "source": [
    "class Arya:\n",
    "    def __init__(self):\n",
    "        print(\"hod\")"
   ]
  },
  {
   "cell_type": "code",
   "execution_count": null,
   "metadata": {},
   "outputs": [
    {
     "name": "stdout",
     "output_type": "stream",
     "text": [
      "<class 'int'>\n"
     ]
    }
   ],
   "source": [
    "a = 10\n",
    "print(type(a))"
   ]
  },
  {
   "cell_type": "markdown",
   "metadata": {},
   "source": [
    "# Constructor"
   ]
  },
  {
   "cell_type": "code",
   "execution_count": null,
   "metadata": {},
   "outputs": [
    {
     "name": "stdout",
     "output_type": "stream",
     "text": [
      "10\n"
     ]
    }
   ],
   "source": [
    "# constructor\n",
    "class Arya:\n",
    "    def __init__(self):\n",
    "        self.a = 10  # instance variavle\n",
    "\n",
    "\n",
    "a1 = Arya()\n",
    "print(a1.a)"
   ]
  },
  {
   "cell_type": "code",
   "execution_count": null,
   "metadata": {},
   "outputs": [
    {
     "name": "stdout",
     "output_type": "stream",
     "text": [
      "college address: mere main ke samne\n",
      "director: jatin\n"
     ]
    }
   ],
   "source": [
    "# constructor\n",
    "class AryaOld:\n",
    "    def __init__(self, arya, director):\n",
    "        self.address = arya  # instance variavle\n",
    "        self.director = director  # instance variavle\n",
    "\n",
    "\n",
    "object1 = AryaOld(\"mere main ke samne\", \"jatin\")\n",
    "print(\"college address: \" + object1.address)\n",
    "print(\"director: \" + object1.director)"
   ]
  },
  {
   "cell_type": "code",
   "execution_count": null,
   "metadata": {},
   "outputs": [
    {
     "name": "stdout",
     "output_type": "stream",
     "text": [
      "harsh\n",
      "22\n"
     ]
    }
   ],
   "source": [
    "# method definition using constructor\n",
    "class Arya:\n",
    "    # a=10\n",
    "    def __init__(self, name, age):\n",
    "        self.name = name  # instance variable\n",
    "        self.age = age  # instance variable\n",
    "\n",
    "    def display(self):\n",
    "        print(self.name)\n",
    "        print(self.age)\n",
    "\n",
    "\n",
    "object1 = Arya(\"harsh\", \"22\")\n",
    "object1.display()"
   ]
  },
  {
   "cell_type": "markdown",
   "metadata": {},
   "source": [
    "# Inheritance"
   ]
  },
  {
   "cell_type": "markdown",
   "metadata": {},
   "source": [
    "Single inheritance"
   ]
  },
  {
   "cell_type": "code",
   "execution_count": 70,
   "metadata": {},
   "outputs": [
    {
     "name": "stdout",
     "output_type": "stream",
     "text": [
      "hello\n",
      "arya main\n"
     ]
    }
   ],
   "source": [
    "# single inheritance\n",
    "class Arya:\n",
    "    name = \"arya main\"\n",
    "    pass\n",
    "\n",
    "\n",
    "class AryaOld(Arya):\n",
    "    print(\"hello\")\n",
    "    pass\n",
    "\n",
    "\n",
    "a = AryaOld()\n",
    "print(a.name)"
   ]
  },
  {
   "cell_type": "markdown",
   "metadata": {},
   "source": [
    "Multiple Inheritance"
   ]
  },
  {
   "cell_type": "code",
   "execution_count": null,
   "metadata": {},
   "outputs": [
    {
     "name": "stdout",
     "output_type": "stream",
     "text": [
      "son name:  jatin\n"
     ]
    },
    {
     "data": {
      "text/plain": [
       "'Father'"
      ]
     },
     "execution_count": 79,
     "metadata": {},
     "output_type": "execute_result"
    }
   ],
   "source": [
    "# multiple inheritance\n",
    "\n",
    "\n",
    "class GrandFather:\n",
    "    Gname = \"GrandFather\"\n",
    "    pass\n",
    "\n",
    "\n",
    "class Father:\n",
    "    Fname = \"Father\"\n",
    "    pass\n",
    "\n",
    "\n",
    "class Son(Father, GrandFather):\n",
    "    name = \"jatin\"\n",
    "    print(\"son name:  \" + name)\n",
    "    pass\n",
    "\n",
    "\n",
    "a = Son()\n",
    "a.Fname"
   ]
  },
  {
   "cell_type": "markdown",
   "metadata": {},
   "source": [
    "Multi-level Inheritance"
   ]
  },
  {
   "cell_type": "code",
   "execution_count": null,
   "metadata": {},
   "outputs": [
    {
     "name": "stdout",
     "output_type": "stream",
     "text": [
      "son\n"
     ]
    },
    {
     "data": {
      "text/plain": [
       "'GrandFather'"
      ]
     },
     "execution_count": 81,
     "metadata": {},
     "output_type": "execute_result"
    }
   ],
   "source": [
    "# multi level inheritance\n",
    "\n",
    "\n",
    "class GrandFather:\n",
    "    Gname = \"GrandFather\"\n",
    "    pass\n",
    "\n",
    "\n",
    "class Father(GrandFather):\n",
    "    Fname = \"Father\"\n",
    "    pass\n",
    "\n",
    "\n",
    "class Son(Father):\n",
    "    print(\"son\")\n",
    "    pass\n",
    "\n",
    "\n",
    "a = Son()\n",
    "a.Gname"
   ]
  },
  {
   "cell_type": "markdown",
   "metadata": {},
   "source": [
    "Hybrid Inheritance"
   ]
  },
  {
   "cell_type": "code",
   "execution_count": null,
   "metadata": {},
   "outputs": [
    {
     "name": "stdout",
     "output_type": "stream",
     "text": [
      "person\n"
     ]
    }
   ],
   "source": [
    "# hybrid inheritance\n",
    "\n",
    "\n",
    "class person:\n",
    "    person = \"person\"\n",
    "    pass\n",
    "\n",
    "\n",
    "class male(person):\n",
    "    genderm = \"male\"\n",
    "    pass\n",
    "\n",
    "\n",
    "class female(person):\n",
    "    genderf = \"female\"\n",
    "    pass\n",
    "\n",
    "\n",
    "class child(male, female):\n",
    "    child = \"child\"\n",
    "    pass\n",
    "\n",
    "\n",
    "a = child()\n",
    "print(a.person)\n",
    "\n"
   ]
  },
  {
   "cell_type": "markdown",
   "metadata": {},
   "source": [
    "Heirarchal inheritance"
   ]
  },
  {
   "cell_type": "code",
   "execution_count": null,
   "metadata": {},
   "outputs": [],
   "source": []
  },
  {
   "cell_type": "markdown",
   "metadata": {},
   "source": [
    "# Polymorphism"
   ]
  },
  {
   "cell_type": "code",
   "execution_count": 93,
   "metadata": {},
   "outputs": [
    {
     "name": "stdout",
     "output_type": "stream",
     "text": [
      "arya\n",
      "10\n"
     ]
    }
   ],
   "source": [
    "# Polymorphism\n",
    "\n",
    "name = \"arya\"\n",
    "print(name)\n",
    "name = 10\n",
    "print(name)"
   ]
  },
  {
   "cell_type": "markdown",
   "metadata": {},
   "source": [
    "# Access-Modifiers"
   ]
  },
  {
   "cell_type": "code",
   "execution_count": null,
   "metadata": {},
   "outputs": [
    {
     "name": "stdout",
     "output_type": "stream",
     "text": [
      "hello\n"
     ]
    },
    {
     "ename": "NameError",
     "evalue": "name 'Self' is not defined",
     "output_type": "error",
     "traceback": [
      "\u001b[31m---------------------------------------------------------------------------\u001b[39m",
      "\u001b[31mNameError\u001b[39m                                 Traceback (most recent call last)",
      "\u001b[36mCell\u001b[39m\u001b[36m \u001b[39m\u001b[32mIn[11]\u001b[39m\u001b[32m, line 15\u001b[39m\n\u001b[32m     11\u001b[39m \u001b[38;5;28;01mclass\u001b[39;00m\u001b[38;5;250m \u001b[39m\u001b[34;01mStudent\u001b[39;00m(Arya):\n\u001b[32m     12\u001b[39m     \u001b[38;5;28mprint\u001b[39m(\u001b[33m\"\u001b[39m\u001b[33mhello\u001b[39m\u001b[33m\"\u001b[39m)\n\u001b[32m---> \u001b[39m\u001b[32m15\u001b[39m s1=Student(\u001b[43mSelf\u001b[49m)\n\u001b[32m     16\u001b[39m \u001b[38;5;28mprint\u001b[39m(s1._name)\n\u001b[32m     17\u001b[39m \u001b[38;5;28mprint\u001b[39m(s1.labno)\n",
      "\u001b[31mNameError\u001b[39m: name 'Self' is not defined"
     ]
    }
   ],
   "source": [
    "# access modifiers\n",
    "\n",
    "\n",
    "class Arya:\n",
    "    def __init__(self):\n",
    "        self.__accountno = 1234  # private\n",
    "        self._name = name  # protected\n",
    "        self.labno = 306  # public\n",
    "\n",
    "\n",
    "class Student(Arya):\n",
    "    print(\"hello\")\n",
    "\n",
    "\n",
    "s1=Student()\n",
    "print(s1._name)\n",
    "print(s1.labno)\n",
    "# print(s1.__accountno)  # private variable cannot be accessed from outside the class\n"
   ]
  },
  {
   "cell_type": "code",
   "execution_count": null,
   "metadata": {},
   "outputs": [],
   "source": []
  }
 ],
 "metadata": {
  "kernelspec": {
   "display_name": "Python 3",
   "language": "python",
   "name": "python3"
  },
  "language_info": {
   "codemirror_mode": {
    "name": "ipython",
    "version": 3
   },
   "file_extension": ".py",
   "mimetype": "text/x-python",
   "name": "python",
   "nbconvert_exporter": "python",
   "pygments_lexer": "ipython3",
   "version": "3.13.1"
  }
 },
 "nbformat": 4,
 "nbformat_minor": 2
}
